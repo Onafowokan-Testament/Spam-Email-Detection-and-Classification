{
 "cells": [
  {
   "cell_type": "markdown",
   "metadata": {},
   "source": [
    "check why mine is notworking"
   ]
  },
  {
   "cell_type": "markdown",
   "metadata": {},
   "source": [
    "#### IMPORTS OF LIBRARY\n"
   ]
  },
  {
   "cell_type": "code",
   "execution_count": 29,
   "metadata": {},
   "outputs": [],
   "source": [
    "import pandas as pd\n",
    "import re\n",
    "from sklearn.model_selection import cross_val_score, cross_val_predict,GridSearchCV\n",
    "import nltk\n",
    "import matplotlib.pyplot as plt\n",
    "import numpy as np\n",
    "from nltk.stem import PorterStemmer\n",
    "from nltk.tokenize import word_tokenize\n",
    "from sklearn.model_selection import train_test_split\n",
    "from sklearn.base import BaseEstimator, TransformerMixin\n",
    "from sklearn.pipeline import Pipeline, FeatureUnion\n",
    "from sklearn.feature_extraction.text import CountVectorizer\n",
    "from nltk.corpus import stopwords\n",
    "\n",
    "\n"
   ]
  },
  {
   "cell_type": "code",
   "execution_count": 2,
   "metadata": {},
   "outputs": [],
   "source": [
    "stemmer = PorterStemmer()\n",
    "words = stopwords.words(\"english\")\n"
   ]
  },
  {
   "cell_type": "markdown",
   "metadata": {},
   "source": [
    "## CREATING A DATAFRAME FOR HAM AND SPAM\n"
   ]
  },
  {
   "cell_type": "code",
   "execution_count": 3,
   "metadata": {},
   "outputs": [],
   "source": [
    "data = pd.read_csv('spam.csv')\n",
    "data.drop(columns=['Unnamed: 2',\"Unnamed: 3\", \"Unnamed: 4\"],axis=1, inplace=True)\n"
   ]
  },
  {
   "cell_type": "code",
   "execution_count": 4,
   "metadata": {},
   "outputs": [],
   "source": [
    "labels = data['v1']\n",
    "data = data['v2']"
   ]
  },
  {
   "cell_type": "code",
   "execution_count": 5,
   "metadata": {},
   "outputs": [],
   "source": [
    "x_train, x_test, y_train, y_test = train_test_split(data, labels , test_size=0.2, random_state=42,)"
   ]
  },
  {
   "cell_type": "markdown",
   "metadata": {},
   "source": [
    "PIPELINE FOR PREPROCESSION"
   ]
  },
  {
   "cell_type": "code",
   "execution_count": 6,
   "metadata": {},
   "outputs": [
    {
     "data": {
      "text/plain": [
       "1978    No I'm in the same boat. Still here at my moms...\n",
       "3989    (Bank of Granite issues Strong-Buy) EXPLOSIVE ...\n",
       "3935       They r giving a second chance to rahul dengra.\n",
       "4078       O i played smash bros  &lt;#&gt;  religiously.\n",
       "4086    PRIVATE! Your 2003 Account Statement for 07973...\n",
       "                              ...                        \n",
       "3772    I came hostel. I m going to sleep. Plz call me...\n",
       "5191                               Sorry, I'll call later\n",
       "5226        Prabha..i'm soryda..realy..frm heart i'm sory\n",
       "5390                           Nt joking seriously i told\n",
       "860                   In work now. Going have in few min.\n",
       "Name: v2, Length: 4457, dtype: object"
      ]
     },
     "execution_count": 6,
     "metadata": {},
     "output_type": "execute_result"
    }
   ],
   "source": [
    "x_train"
   ]
  },
  {
   "cell_type": "code",
   "execution_count": 7,
   "metadata": {},
   "outputs": [
    {
     "name": "stdout",
     "output_type": "stream",
     "text": [
      "life is you\n",
      "the onely one\n"
     ]
    }
   ],
   "source": [
    "string = [\"life is you\", 'the onely one']\n",
    "for i in string :\n",
    "    \n",
    "    print(i)"
   ]
  },
  {
   "cell_type": "code",
   "execution_count": 8,
   "metadata": {},
   "outputs": [],
   "source": [
    "url_pattern = url_pattern = r'https?://\\S+|www\\.\\S+'\n",
    "email_pattern = r'\\b[A-Za-z0-9._%+-]+@[A-Za-z0-9.-]+\\.[A-Za-z]{2,7}\\b'"
   ]
  },
  {
   "cell_type": "code",
   "execution_count": 9,
   "metadata": {},
   "outputs": [
    {
     "data": {
      "text/plain": [
       "3860"
      ]
     },
     "execution_count": 9,
     "metadata": {},
     "output_type": "execute_result"
    }
   ],
   "source": [
    "(y_train=='ham').sum()"
   ]
  },
  {
   "cell_type": "code",
   "execution_count": 10,
   "metadata": {},
   "outputs": [
    {
     "data": {
      "text/plain": [
       "597"
      ]
     },
     "execution_count": 10,
     "metadata": {},
     "output_type": "execute_result"
    }
   ],
   "source": [
    "(y_train=='spam').sum()"
   ]
  },
  {
   "cell_type": "code",
   "execution_count": 35,
   "metadata": {},
   "outputs": [],
   "source": [
    "y_train.replace(\"spam\",1, inplace=True)\n",
    "y_train.replace(\"ham\", 0, inplace=True)\n",
    "y_test.replace(\"spam\",1, inplace=True)\n",
    "y_test.replace(\"ham\", 0, inplace=True)\n"
   ]
  },
  {
   "cell_type": "code",
   "execution_count": 12,
   "metadata": {},
   "outputs": [
    {
     "data": {
      "text/plain": [
       "1978    0\n",
       "3989    1\n",
       "3935    0\n",
       "4078    0\n",
       "4086    1\n",
       "       ..\n",
       "3772    0\n",
       "5191    0\n",
       "5226    0\n",
       "5390    0\n",
       "860     0\n",
       "Name: v1, Length: 4457, dtype: int64"
      ]
     },
     "execution_count": 12,
     "metadata": {},
     "output_type": "execute_result"
    }
   ],
   "source": [
    "y_train"
   ]
  },
  {
   "cell_type": "code",
   "execution_count": 13,
   "metadata": {},
   "outputs": [],
   "source": [
    "class processing_text(BaseEstimator, TransformerMixin):\n",
    "    def __init__(self,remove_punctuation= True, strip_email=True, to_lowercase= True, replace_url= True, replace_number= True, stemming= True):\n",
    "        self.remove_punctuation = remove_punctuation\n",
    "        self.strip_email = strip_email\n",
    "        self.to_lowercase = to_lowercase\n",
    "        self.replace_number = replace_number\n",
    "        self.replace_url = replace_url\n",
    "        self.stemming = stemming\n",
    "        self.stemmed_data = []\n",
    "        self.punctuations = ['!', '.', ',','?', ]\n",
    "    def fit(self , x, y= None,):\n",
    "        return self\n",
    "    def transform(self, x, y=None):\n",
    "        self.stemmed_data = []\n",
    "        for text in x:\n",
    "            tokenize_x = word_tokenize(text)\n",
    "            url_pattern = url_pattern = r'https?://\\S+|www\\.\\S+'\n",
    "            email_pattern = r'\\b[A-Za-z0-9._%+-]+@[A-Za-z0-9.-]+\\.[A-Za-z]{2,7}\\b'\n",
    "            stemmed_sentence = []\n",
    "            for word in tokenize_x:\n",
    "                if self.remove_punctuation and word in self.punctuations:\n",
    "                        continue\n",
    "                if word in words:\n",
    "                     continue\n",
    "                if self.replace_url and re.match(url_pattern,word):\n",
    "                    word = \"URL\"\n",
    "                         \n",
    "                if self.replace_number and re.match(r'\\+?[0-9][0-9\\-]+', word):\n",
    "                     word = \"NUMBER\"\n",
    "                     \n",
    "                if self.strip_email and re.match(email_pattern,word):\n",
    "                     continue    \n",
    "                if self.to_lowercase:\n",
    "                     word = word.lower()\n",
    "\n",
    "                if self.stemming:\n",
    "                    stemmed_word = stemmer.stem(word)\n",
    "                    stemmed_sentence.append(stemmed_word)\n",
    "                else:\n",
    "                     stemmed_sentence.append(word)\n",
    "\n",
    "\n",
    "            stemmed_text = ' '.join(stemmed_sentence)\n",
    "            self.stemmed_data.append(stemmed_text)\n",
    "\n",
    "        \n",
    "        \n",
    "        return self.stemmed_data\n",
    "\n"
   ]
  },
  {
   "cell_type": "code",
   "execution_count": 14,
   "metadata": {},
   "outputs": [],
   "source": [
    "# class bag_of_words(BaseEstimator, TransformerMixin):\n",
    "#     def __init__(self, top_words = 20):\n",
    "\n",
    "#         self.vocab = []\n",
    "#         self.max_vocab = top_words\n",
    "#         self.bag_of_words = []\n",
    "#         self.top_words = top_words\n",
    "\n",
    "#     def fit(self,X,y= None):\n",
    "#         for text in X:\n",
    "#             for word in text:\n",
    "#                 self.vocab.append(word)\n",
    "#         unique_words = pd.Series(self.vocab).value_counts()\n",
    "#         frequent_words = unique_words.index[:self.top_words]\n",
    "#         self.vocab = set(frequent_words)\n",
    "#         return self\n",
    "#     def transform(self,X,y=None):\n",
    "#         for text in X:\n",
    "#             bag = np.zeros(self.top_words,dtype=np.float32)\n",
    "#             for ind, word in enumerate(self.vocab):\n",
    "#                 if word in text:\n",
    "#                     bag[ind] = 1.0\n",
    "#             self.bag_of_words.append(bag)\n",
    "#         return self.bag_of_words       \n"
   ]
  },
  {
   "cell_type": "code",
   "execution_count": 15,
   "metadata": {},
   "outputs": [],
   "source": [
    "class bag_of_words(BaseEstimator, TransformerMixin):\n",
    "    def __init__(self, top_words= 20):\n",
    "        self.top_words = top_words\n",
    "        self.vectorizer = CountVectorizer(max_features = self.top_words, binary=True, lowercase=False, stop_words= \"english\")\n",
    "    def fit(self,X,y= None):\n",
    "        self.vectorizer.fit(X)\n",
    "        return self\n",
    "    def transform(self,X,y=None):\n",
    "        bag_of_words = self.vectorizer.transform(X).toarray()\n",
    "        return bag_of_words\n"
   ]
  },
  {
   "cell_type": "code",
   "execution_count": 16,
   "metadata": {},
   "outputs": [],
   "source": [
    "pipeline = Pipeline([\n",
    " ('custom',processing_text()),\n",
    " ('bow',bag_of_words())\n",
    "]\n",
    ")"
   ]
  },
  {
   "cell_type": "code",
   "execution_count": 17,
   "metadata": {},
   "outputs": [],
   "source": [
    "pipe_data = pipeline.fit_transform(x_train)"
   ]
  },
  {
   "cell_type": "markdown",
   "metadata": {},
   "source": [
    "Since that is the default, I do not need any more change"
   ]
  },
  {
   "cell_type": "markdown",
   "metadata": {},
   "source": [
    "## MODEL SELECTIONS"
   ]
  },
  {
   "cell_type": "code",
   "execution_count": 18,
   "metadata": {},
   "outputs": [],
   "source": [
    "from sklearn.linear_model import  SGDClassifier\n",
    "from sklearn.linear_model import LinearRegression\n",
    "from sklearn.svm import SVC\n",
    "from sklearn.naive_bayes import GaussianNB\n",
    "from sklearn.ensemble import RandomForestClassifier\n",
    "from sklearn.metrics import recall_score, f1_score, precision_score, confusion_matrix, precision_recall_curve\n"
   ]
  },
  {
   "cell_type": "code",
   "execution_count": 19,
   "metadata": {},
   "outputs": [
    {
     "name": "stdout",
     "output_type": "stream",
     "text": [
      "sdg : [0.96635262 0.95962315 0.95824916]\n"
     ]
    },
    {
     "name": "stdout",
     "output_type": "stream",
     "text": [
      "svc : [0.96366083 0.9602961  0.96026936]\n",
      "naive : [0.42799462 0.42799462 0.38989899]\n",
      "rfc : [0.96635262 0.96096904 0.96026936]\n"
     ]
    }
   ],
   "source": [
    "models = [('sdg', SGDClassifier(random_state=42)), ('svc', SVC()),  ('naive', GaussianNB()), ('rfc', RandomForestClassifier())]\n",
    "for model in models:\n",
    "    score = cross_val_score(model[1], pipe_data, y_train, scoring= 'accuracy', cv=3)\n",
    "    print(f\"{model[0]} : {score}\")"
   ]
  },
  {
   "cell_type": "code",
   "execution_count": 20,
   "metadata": {},
   "outputs": [],
   "source": [
    "rfc = RandomForestClassifier(random_state=42)\n",
    "model = rfc.fit(pipe_data,y_train)"
   ]
  },
  {
   "cell_type": "code",
   "execution_count": 21,
   "metadata": {},
   "outputs": [],
   "source": [
    "predictions = cross_val_predict(rfc, pipe_data , y_train, cv=3)"
   ]
  },
  {
   "cell_type": "code",
   "execution_count": 22,
   "metadata": {},
   "outputs": [
    {
     "data": {
      "text/plain": [
       "array([[3784,   76],\n",
       "       [  91,  506]], dtype=int64)"
      ]
     },
     "execution_count": 22,
     "metadata": {},
     "output_type": "execute_result"
    }
   ],
   "source": [
    "confusion_matrix(y_train, predictions)"
   ]
  },
  {
   "cell_type": "markdown",
   "metadata": {},
   "source": [
    "3784 emails were correctly identified as non ha(True Negatives), 76 nwere wrongly identified as ham(falsse positive)\n",
    "91 were incorrectly identified as spam(False negative), and 506 were rightly identified as spam(True positive).\n",
    "For me , it is better for a spam to be identified as ham than ham identified by spam meaning i would prefer accuracy to recall\n",
    "\n",
    "precision has to do with the percentage of the predictedd spam was correct , while recall has to do with the percentage of the total amount of spam it eas able to recognize"
   ]
  },
  {
   "cell_type": "code",
   "execution_count": 23,
   "metadata": {},
   "outputs": [
    {
     "data": {
      "text/plain": [
       "0.8694158075601375"
      ]
     },
     "execution_count": 23,
     "metadata": {},
     "output_type": "execute_result"
    }
   ],
   "source": [
    "precision_score(y_train,predictions)"
   ]
  },
  {
   "cell_type": "code",
   "execution_count": 24,
   "metadata": {},
   "outputs": [
    {
     "data": {
      "text/plain": [
       "0.847571189279732"
      ]
     },
     "execution_count": 24,
     "metadata": {},
     "output_type": "execute_result"
    }
   ],
   "source": [
    "recall_score(y_train, predictions)"
   ]
  },
  {
   "cell_type": "code",
   "execution_count": 25,
   "metadata": {},
   "outputs": [
    {
     "data": {
      "text/plain": [
       "0.8583545377438507"
      ]
     },
     "execution_count": 25,
     "metadata": {},
     "output_type": "execute_result"
    }
   ],
   "source": [
    "f1_score(y_train, predictions)"
   ]
  },
  {
   "cell_type": "markdown",
   "metadata": {},
   "source": [
    "wowwwww, I think that is nice, but i feel ther sshould be a better one. We have way less the number of ositive class, so we woould be using the pr curve. The roc curve plots the true postive rate to the false positive rate"
   ]
  },
  {
   "cell_type": "code",
   "execution_count": 26,
   "metadata": {},
   "outputs": [],
   "source": [
    "scores = cross_val_predict(rfc, pipe_data , y_train, cv=3, method='predict_proba')\n",
    "y_score = scores[:,1]"
   ]
  },
  {
   "cell_type": "code",
   "execution_count": 27,
   "metadata": {},
   "outputs": [],
   "source": [
    "precision, recall , thresholds = precision_recall_curve(y_train, y_score )"
   ]
  },
  {
   "cell_type": "code",
   "execution_count": 28,
   "metadata": {},
   "outputs": [
    {
     "data": {
      "text/plain": [
       "(0.0, 1.0)"
      ]
     },
     "execution_count": 28,
     "metadata": {},
     "output_type": "execute_result"
    },
    {
     "data": {
      "image/png": "[encoded data removed]",
      "text/plain": [
       "<Figure size 640x480 with 1 Axes>"
      ]
     },
     "metadata": {},
     "output_type": "display_data"
    }
   ],
   "source": [
    "plt.plot(thresholds, precision[:-1], 'b--', label = 'Precision')\n",
    "plt.plot(thresholds, recall[:-1], 'g--', label =' recall')\n",
    "plt.xlabel('thresholds')\n",
    "plt.grid()\n",
    "plt.legend(loc = 'upper left')\n",
    "plt.ylim([0,1])\n"
   ]
  },
  {
   "cell_type": "markdown",
   "metadata": {},
   "source": [
    "TEST PREDICTIONS"
   ]
  },
  {
   "cell_type": "code",
   "execution_count": 30,
   "metadata": {},
   "outputs": [],
   "source": [
    "transformed_test = pipeline.transform(x_test)"
   ]
  },
  {
   "cell_type": "code",
   "execution_count": 31,
   "metadata": {},
   "outputs": [],
   "source": [
    "test_predictions = rfc.predict(transformed_test)"
   ]
  },
  {
   "cell_type": "code",
   "execution_count": 33,
   "metadata": {},
   "outputs": [
    {
     "data": {
      "text/plain": [
       "array([0, 0, 1, ..., 0, 0, 1], dtype=int64)"
      ]
     },
     "execution_count": 33,
     "metadata": {},
     "output_type": "execute_result"
    }
   ],
   "source": [
    "test_predictions"
   ]
  },
  {
   "cell_type": "code",
   "execution_count": 38,
   "metadata": {},
   "outputs": [
    {
     "data": {
      "text/plain": [
       "0.9659192825112107"
      ]
     },
     "execution_count": 38,
     "metadata": {},
     "output_type": "execute_result"
    }
   ],
   "source": [
    "correct_predictions = (y_test == test_predictions).sum()/ len(y_test)\n",
    "correct_predictions"
   ]
  },
  {
   "cell_type": "code",
   "execution_count": 36,
   "metadata": {},
   "outputs": [
    {
     "data": {
      "text/plain": [
       "array([[937,  28],\n",
       "       [ 10, 140]], dtype=int64)"
      ]
     },
     "execution_count": 36,
     "metadata": {},
     "output_type": "execute_result"
    }
   ],
   "source": [
    "confusion_matrix(y_test,test_predictions)"
   ]
  },
  {
   "cell_type": "markdown",
   "metadata": {},
   "source": [
    "## This looks quite good,"
   ]
  },
  {
   "cell_type": "code",
   "execution_count": null,
   "metadata": {},
   "outputs": [],
   "source": []
  },
  {
   "cell_type": "code",
   "execution_count": null,
   "metadata": {},
   "outputs": [],
   "source": []
  }
 ],
 "metadata": {
  "kernelspec": {
   "display_name": "spam_ham_classification",
   "language": "python",
   "name": "python3"
  },
  "language_info": {
   "codemirror_mode": {
    "name": "ipython",
    "version": 3
   },
   "file_extension": ".py",
   "mimetype": "text/x-python",
   "name": "python",
   "nbconvert_exporter": "python",
   "pygments_lexer": "ipython3",
   "version": "3.11.4"
  },
  "orig_nbformat": 4
 },
 "nbformat": 4,
 "nbformat_minor": 2
}
